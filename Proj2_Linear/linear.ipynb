{
 "cells": [
  {
   "cell_type": "code",
   "execution_count": null,
   "metadata": {},
   "outputs": [],
   "source": [
    "'''\n",
    "@ author : haijun xiong\n",
    "@ date   : 25/Sep/2020\n",
    "\n",
    "'''\n",
    "import numpy as np\n",
    "import matplotlib.pyplot as plt\n",
    "import random"
   ]
  },
  {
   "cell_type": "code",
   "execution_count": null,
   "metadata": {},
   "outputs": [],
   "source": [
    "def MSE_loss(y_hat, y):\n",
    "    return 1/2 * (y_hat - y)**2\n",
    "class LinearModel():\n",
    "    def __init__(self, train_data, epoch, lr):\n",
    "        x = np.concatenate((train_data[:, :-1], np.ones((train_data.shape[0], 1))), axis=1)\n",
    "        y = train_data[:, -1]\n",
    "        self.x = x\n",
    "        self.y = y.reshape(-1,1)\n",
    "        self.w = np.zeros((x.shape[1], 1))\n",
    "        self.lr = lr\n",
    "        self.epochs = epoch\n",
    "    def train(self):\n",
    "        for epoch in range(self.epochs):\n",
    "            y_hat = self.x @ self.w\n",
    "            loss = MSE_loss(y_hat, self.y)\n",
    "            w_grad = 2 * self.x.T @ (y_hat - self.y)\n",
    "            self.w -= self.lr * w_grad.reshape(-1,1)\n",
    "            if epoch % 10 == 0:\n",
    "                print('epoch:{}, loss:{}'.format(epoch, np.sum(loss)))\n",
    "            if epoch % 100 == 0:\n",
    "                self.lr *= 0.1\n",
    "    def test(self, test_x):\n",
    "        y_hat = test_x @ self.w\n",
    "        return y_hat\n",
    "\n",
    "    def evaluate(self, test_data):\n",
    "        test_x = np.concatenate((test_data[:, :-1], np.ones((test_data.shape[0], 1))), axis=1)\n",
    "        test_y = test_data[:, -1].reshape(-1,1)\n",
    "        y_hat = self.test(test_x)\n",
    "        y_hat[y_hat < 0] = - 1\n",
    "        y_hat[y_hat > 0] = 1\n",
    "        acc = np.sum(y_hat == test_y) / len(test_y)\n",
    "        return acc"
   ]
  },
  {
   "cell_type": "code",
   "execution_count": null,
   "metadata": {},
   "outputs": [],
   "source": [
    "def get_cov(d):\n",
    "    return np.identity(d)\n",
    "\n",
    "def get_mean(d):\n",
    "    mean = np.zeros(d)\n",
    "    mean[0] = 1\n",
    "    return mean"
   ]
  },
  {
   "cell_type": "code",
   "execution_count": null,
   "metadata": {},
   "outputs": [],
   "source": [
    "def get_dataset(mu, cov, nums):\n",
    "    scale = 0.8\n",
    "    data1 = np.random.multivariate_normal(mean=mean, cov=cov, size=nums)\n",
    "    data2 = np.random.multivariate_normal(mean=-1*mu, cov=cov, size=nums)\n",
    "    data1 = np.concatenate((data1, -1 * np.ones((nums, 1))), axis=1)\n",
    "    data2 = np.concatenate((data2, np.ones((nums, 1))), axis=1)\n",
    "    train_data1, val_data1 = split_dataset(data1, scale) \n",
    "    train_data2, val_data2 = split_dataset(data2, scale)\n",
    "    train_data = np.vstack((train_data1, train_data2)).astype(np.float32)\n",
    "    val_data = np.vstack((val_data1, val_data2)).astype(np.float32)\n",
    "    return train_data, val_data\n",
    "\n",
    "def split_dataset(dataset, scale):\n",
    "    num_data = dataset.shape[0]\n",
    "    train_dataset = []\n",
    "    valid_dataset = []\n",
    "    train_indice = random.sample(range(num_data), int(num_data * scale))\n",
    "    for index in range(num_data):\n",
    "        if index in train_indice:\n",
    "            train_dataset.append(dataset[index])\n",
    "        else:\n",
    "            valid_dataset.append(dataset[index])\n",
    "    return np.array(train_dataset), np.array(valid_dataset)"
   ]
  },
  {
   "cell_type": "code",
   "execution_count": null,
   "metadata": {},
   "outputs": [],
   "source": [
    "def show_clf(data, w, nums=500):\n",
    "    x = data[:, :-1]\n",
    "    y = data[:, -1]\n",
    "    xx = np.linspace(-4, 5, nums)\n",
    "    a = w[0]\n",
    "    b = w[1]\n",
    "    c = w[2]\n",
    "    yy = -(a/b)*xx - (c/b)\n",
    "    plt.figure()\n",
    "    plt.scatter(x[:,0], x[:,1], c=y, alpha=0.2)\n",
    "    plt.plot(xx, yy, c='r')\n",
    "    plt.show()"
   ]
  },
  {
   "cell_type": "code",
   "execution_count": null,
   "metadata": {},
   "outputs": [],
   "source": [
    "np.random.seed(1)\n",
    "epoch = 400\n",
    "nums = 250\n",
    "d = 2\n",
    "mean = np.array([1, -1])\n",
    "cov = get_cov(d)\n",
    "train_data, test_data = get_dataset(mean, cov, nums)"
   ]
  },
  {
   "cell_type": "code",
   "execution_count": null,
   "metadata": {},
   "outputs": [],
   "source": [
    "model = LinearModel(train_data, epoch, lr=1e-3)"
   ]
  },
  {
   "cell_type": "code",
   "execution_count": null,
   "metadata": {},
   "outputs": [],
   "source": [
    "model.train()"
   ]
  },
  {
   "cell_type": "code",
   "execution_count": null,
   "metadata": {},
   "outputs": [],
   "source": [
    "print(model.w)\n",
    "show_clf(train_data, model.w, 2 * nums)     # plot the figure"
   ]
  },
  {
   "cell_type": "code",
   "execution_count": null,
   "metadata": {},
   "outputs": [],
   "source": [
    "show_clf(test_data, model.w, 2 * nums) "
   ]
  },
  {
   "cell_type": "code",
   "execution_count": null,
   "metadata": {},
   "outputs": [],
   "source": [
    "acc = model.evaluate(test_data)"
   ]
  },
  {
   "cell_type": "code",
   "execution_count": null,
   "metadata": {},
   "outputs": [],
   "source": [
    "d = 500\n",
    "mean = get_mean(d)\n",
    "cov = get_cov(d)\n",
    "train_data, test_data = get_dataset(mean, cov, nums)\n",
    "model = LinearModel(train_data, epoch * 10, lr=1e-4)\n",
    "model.train()"
   ]
  },
  {
   "cell_type": "code",
   "execution_count": null,
   "metadata": {},
   "outputs": [],
   "source": [
    "acc = model.evaluate(test_data)"
   ]
  }
 ],
 "metadata": {
  "interpreter": {
   "hash": "49cb93f377a7abe7414b7b0f21fb3017538004a126cf690fb524202736b7fb92"
  },
  "kernelspec": {
   "display_name": "Python 3.9.7 ('base')",
   "language": "python",
   "name": "python3"
  },
  "language_info": {
   "codemirror_mode": {
    "name": "ipython",
    "version": 3
   },
   "file_extension": ".py",
   "mimetype": "text/x-python",
   "name": "python",
   "nbconvert_exporter": "python",
   "pygments_lexer": "ipython3",
   "version": "3.9.7"
  },
  "orig_nbformat": 4
 },
 "nbformat": 4,
 "nbformat_minor": 2
}
