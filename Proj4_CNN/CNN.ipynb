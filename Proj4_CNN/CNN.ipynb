{
 "cells": [
  {
   "cell_type": "code",
   "execution_count": null,
   "metadata": {},
   "outputs": [],
   "source": [
    "'''\n",
    "@ author: haijun xiong\n",
    "@ date  : 2021/9/26\n",
    "'''\n",
    "import torch\n",
    "import torch.nn as nn\n",
    "import torchvision.datasets as datasets\n",
    "import torchvision.transforms as transforms\n",
    "import torch.optim as optim\n",
    "import torch.autograd as autograd"
   ]
  },
  {
   "cell_type": "code",
   "execution_count": null,
   "metadata": {},
   "outputs": [],
   "source": [
    "class LeNet5(nn.Module):\n",
    "    def __init__(self):\n",
    "        super(LeNet5, self).__init__()\n",
    "        self.conv1 = nn.Conv2d(1, 6, 5, padding=2)\n",
    "        self.pooling = nn.MaxPool2d(2)\n",
    "        self.conv2 = nn.Conv2d(6, 16, 5)\n",
    "        self.AF = nn.ReLU(inplace=True)\n",
    "        self.fc1 = nn.Linear(16*5*5, 120)\n",
    "        self.fc2 = nn.Linear(120, 84)\n",
    "        self.fc3 = nn.Linear(84, 10)\n",
    "\n",
    "    def forward(self, x):\n",
    "        x = self.AF(self.conv1(x))\n",
    "        x = self.pooling(x)\n",
    "        x = self.AF(self.conv2(x))\n",
    "        x = self.pooling(x)\n",
    "        x = x.view(x.size(0), -1)\n",
    "        x = self.AF(self.fc1(x))\n",
    "        x = self.AF(self.fc2(x))\n",
    "        x = self.fc3(x)\n",
    "        return x"
   ]
  },
  {
   "cell_type": "code",
   "execution_count": null,
   "metadata": {},
   "outputs": [],
   "source": [
    "class Accumulator:\n",
    "    def __init__(self, n):\n",
    "        self.data = [0.0] * n\n",
    "\n",
    "    def add(self, *args):\n",
    "        self.data = [a + float(b) for a, b in zip(self.data, args)]\n",
    "\n",
    "    def reset(self):\n",
    "        self.data = [0.0] * len(self.data)\n",
    "\n",
    "    def __getitem__(self, idx):\n",
    "        return self.data[idx]"
   ]
  },
  {
   "cell_type": "code",
   "execution_count": null,
   "metadata": {},
   "outputs": [],
   "source": [
    "class Model:\n",
    "    def __init__(self, train_data, test_data, lr, epoch):\n",
    "        self.train_loadr = train_data\n",
    "        self.test_loadr = test_data\n",
    "        self.lr = lr\n",
    "        self.epoch = epoch\n",
    "        self.net = LeNet5().float()\n",
    "        self.net.cuda()\n",
    "        self.loss = nn.CrossEntropyLoss()\n",
    "        self.loss.cuda()\n",
    "        self.optimizer = optim.SGD(self.net.parameters(), lr=self.lr, momentum=0.9)\n",
    "    \n",
    "    def Var(self, x):\n",
    "        x = autograd.Variable(x).cuda()\n",
    "        return x\n",
    "\n",
    "    def fit(self):\n",
    "        for i in range(self.epoch):\n",
    "            self.net.train()\n",
    "            for (X, y) in self.train_loadr:\n",
    "                self.optimizer.zero_grad()\n",
    "                X, y = self.Var(X), self.Var(y)\n",
    "                y_hat = self.net(X)\n",
    "                l = self.loss(y_hat, y)\n",
    "                l.backward()\n",
    "                self.optimizer.step()\n",
    "            test_acc = self.evaluate_accuracy()\n",
    "            print(\"epoch:{}, test_acc:{}\".format(i, test_acc))\n",
    "    \n",
    "    def evaluate_accuracy(self):\n",
    "        self.net.eval()\n",
    "        metric = Accumulator(2)\n",
    "        for (X, y) in self.test_loadr:\n",
    "            X, y = X.cuda(), y.cuda()\n",
    "            y_hat = self.net(X)\n",
    "            if len(y_hat.shape) > 1 and y_hat.shape[1] > 1:\n",
    "                y_hat = y_hat.argmax(axis=1)\n",
    "            cmp = y_hat.type(y.dtype) == y\n",
    "            right = float(cmp.type(y.dtype).sum())\n",
    "            metric.add(right, y.size(0))\n",
    "        return metric[0] / metric[1]"
   ]
  },
  {
   "cell_type": "code",
   "execution_count": null,
   "metadata": {},
   "outputs": [],
   "source": [
    "batch_size = 256\n",
    "train_loader = torch.utils.data.DataLoader(\n",
    "    datasets.MNIST('./data', train=True, download=True,\n",
    "                transform=transforms.Compose([\n",
    "                    transforms.ToTensor(),\n",
    "                    transforms.Normalize((0.1307,), (0.3081,))])),\n",
    "        batch_size=batch_size, shuffle=True)\n",
    "test_loader = torch.utils.data.DataLoader(\n",
    "    datasets.MNIST('./data', train=False, transform=transforms.Compose([\n",
    "        transforms.ToTensor(),\n",
    "        transforms.Normalize((0.1307,), (0.3081,))])),\n",
    "    batch_size=1, shuffle=True)"
   ]
  },
  {
   "cell_type": "code",
   "execution_count": null,
   "metadata": {},
   "outputs": [],
   "source": [
    "model = Model(train_loader, test_loader, lr=1e-2, epoch=10)\n",
    "model.fit()"
   ]
  },
  {
   "cell_type": "code",
   "execution_count": null,
   "metadata": {},
   "outputs": [],
   "source": [
    "model.evaluate_accuracy()"
   ]
  }
 ],
 "metadata": {
  "interpreter": {
   "hash": "49cb93f377a7abe7414b7b0f21fb3017538004a126cf690fb524202736b7fb92"
  },
  "kernelspec": {
   "display_name": "Python 3.9.7 ('base')",
   "language": "python",
   "name": "python3"
  },
  "language_info": {
   "codemirror_mode": {
    "name": "ipython",
    "version": 3
   },
   "file_extension": ".py",
   "mimetype": "text/x-python",
   "name": "python",
   "nbconvert_exporter": "python",
   "pygments_lexer": "ipython3",
   "version": "3.9.7"
  },
  "orig_nbformat": 4
 },
 "nbformat": 4,
 "nbformat_minor": 2
}
